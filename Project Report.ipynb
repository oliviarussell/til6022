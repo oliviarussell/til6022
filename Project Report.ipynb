{
 "cells": [
  {
   "cell_type": "markdown",
   "metadata": {},
   "source": [
    "# Project Group - 4\n",
    "\n",
    "Members:    \n",
    "- Olivia Russell, Student Number: 5242312 \n",
    "- Sara Post, Student Number: 5409667\n",
    "- Alejandro Fiatt,  Student Number: 6250580\n",
    "- Ivo Aben,  Student Number: 5099471\n",
    "- Jochem den Nijs, Student Number: 4873904\n"
   ]
  },
  {
   "cell_type": "markdown",
   "metadata": {},
   "source": [
    "# Introduction\n",
    "\n",
    "\n",
    "The COVID-19 pandemic, which the world began experiencing in early 2020, had a profound impact on people's lifestyles across the globe. One of the most significant effects was on urban mobility patterns, which were dramatically altered by public health restrictions and social distancing measures.  This study aims to quantify this phenomenon by analyzing the variations in taxi usage in New York City, offering an example of the pandemic's effect on urban mobility.\n",
    "\n",
    "The study also examines the spatial distribution of taxi trips to identify whether different routes or different areas of the city were affected in distinct ways. This analysis seeks to understand how the pandemic's impact varied across New York City, offering insights into whether certain neighborhoods experienced greater or lesser changes in taxi usage."
   ]
  },
  {
   "cell_type": "markdown",
   "metadata": {},
   "source": [
    "# Research Objective\n"
   ]
  },
  {
   "cell_type": "markdown",
   "metadata": {},
   "source": [
    "**Main question:**\n",
    "\n",
    "What was the impact of COVID on the use of yellow taxi services in New York City?\n",
    "\n",
    "**Sub question:**\n",
    "\n",
    "- What is the impact of Covid on the number of trips made with a taxi in New York City?\n",
    "- What is the impact of Covid on the number of passengers per taxi in New York City? \n",
    "- What is the impact of Covid on the location spread of taxi use in New York City?\n",
    "\n"
   ]
  },
  {
   "cell_type": "markdown",
   "metadata": {},
   "source": [
    "# Contribution Statement\n",
    "\n"
   ]
  },
  {
   "cell_type": "markdown",
   "metadata": {},
   "source": [
    "**Olivia Russell**: Coding, conceptualisation, graph description\n",
    "\n",
    "**Sara Post**: Coding, background research, graph description\n",
    "\n",
    "**Alejandro Fiatt**: Coding, visualisation, graph description\n",
    "\n",
    "**Ivo Aben**: Coding, data modelling, cleaning data\n",
    "\n",
    "**Jochem den Nijs**: Coding, data modelling, data preparation"
   ]
  },
  {
   "cell_type": "markdown",
   "metadata": {},
   "source": [
    "# Data Used"
   ]
  },
  {
   "cell_type": "markdown",
   "metadata": {},
   "source": [
    "Our whole timescope will be from 2019 to 2021. This way we can look at the difference in the period before and during the Covid pandemic. Before Covid we will research the period from January 2019 until February 2020. During Covid we will research the period from April 2020 until December 2021. March will be excluded from the analysis, as it is considered a transitional period, given that during this time the first cases were reported and the initial sanitary restrictions were implemented.\n",
    "\n",
    "Our Geographical range will be New York City."
   ]
  },
  {
   "cell_type": "markdown",
   "metadata": {},
   "source": [
    "# Data Pipeline"
   ]
  },
  {
   "cell_type": "markdown",
   "metadata": {},
   "source": [
    "The data extracted from the nyc.gov website (https://www.nyc.gov/site/tlc/about/tlc-trip-record-data.page) must first be processed locally, as the files are too large to be handled by GitHub. To address this, all unnecessary information will be removed from the database, retaining only the relevant variables for the analysis: trip ID, date, pick-up location, drop-off location and number of passenAgers in the vehicle. Additionally, any data points with erroneous values, such as negative distance traveled or negative travel time, will also be deleted. Even after removal of most values in the data set, the files are too large to use. Thus the data will be split into separate documents. The data will be analysed based on the different time spans. Maps will be created with hotspots for taxi-drop offs and pickups."
   ]
  },
  {
   "cell_type": "markdown",
   "metadata": {},
   "source": [
    "# COVID'S IMPACT ON TAXI USE IN NYC\n",
    "\n",
    "**Impact of Covid on the number of trips**\n",
    "\n",
    "\n",
    "**Impact of Covid on the number of passengers**\n",
    "\n",
    "\n",
    "**Impact of Covid on the location spread**"
   ]
  }
 ],
 "metadata": {
  "kernelspec": {
   "display_name": "Python 3 (ipykernel)",
   "language": "python",
   "name": "python3"
  },
  "language_info": {
   "codemirror_mode": {
    "name": "ipython",
    "version": 3
   },
   "file_extension": ".py",
   "mimetype": "text/x-python",
   "name": "python",
   "nbconvert_exporter": "python",
   "pygments_lexer": "ipython3",
   "version": "3.12.5"
  },
  "vscode": {
   "interpreter": {
    "hash": "31f2aee4e71d21fbe5cf8b01ff0e069b9275f58929596ceb00d14d90e3e16cd6"
   }
  }
 },
 "nbformat": 4,
 "nbformat_minor": 4
}
