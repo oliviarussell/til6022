{
 "cells": [
  {
   "cell_type": "markdown",
   "metadata": {},
   "source": [
    "# Project Group - 4\n",
    "\n",
    "Members:    \n",
    "- Olivia Russell,   Student Number: 5242312 \n",
    "- Sara Post,        Student Number: 5409667\n",
    "- Alejandro Fiatt,  Student Number: 6250580\n",
    "- Ivo Aben,         Student Number: 5099471\n",
    "- Jochem den Nijs,  Student Number: 4873904\n"
   ]
  },
  {
   "cell_type": "markdown",
   "metadata": {},
   "source": [
    "# Contribution Statement\n",
    "\n"
   ]
  },
  {
   "cell_type": "markdown",
   "metadata": {},
   "source": [
    "**Olivia Russell**: Coding, conceptualisation, graph description\n",
    "\n",
    "**Sara Post**: Coding, background research, graph description\n",
    "\n",
    "**Alejandro Fiatt**: Coding, visualisation, graph description\n",
    "\n",
    "**Ivo Aben**: Coding, cleaning data, graph description\n",
    "\n",
    "**Jochem den Nijs**: Coding, data modelling"
   ]
  },
  {
   "cell_type": "markdown",
   "metadata": {},
   "source": [
    "# Introduction\n",
    "\n",
    "\n",
    "In early 2020, COVID-19 spread rapidly across the United States, profoundly affecting social behaviors and urban life. New York City, as one of the nation's most densely populated and heavily visited cities, was especially impacted. To curb the spread of the virus, government officials implemented sweeping public health measures, including lockdowns, social distancing mandates, and the closure of non-essential businesses. These changes drastically altered the daily routines of millions of people and reshaped transportation patterns across the city.\n",
    "\n",
    "One significant area of impact was the city's taxi industry, particularly the iconic yellow taxi services that are a staple of New York City's transportation landscape. Yellow taxis serve a diverse set of needs, from everyday commuting and tourist travel to airport transfers and last-mile connections for public transit users. The pandemic disrupted these patterns by reducing travel demand, shifting priorities, and raising health concerns, which influenced how, when, and where people used taxis.\n",
    "\n",
    "Our main research question is: \"What was the impact of COVID-19 on the use of yellow taxi services in New York City?\" This question addresses how the pandemic influenced not only the volume of taxi rides but also the nature and spread of these trips throughout the city. To answer this question, we focus on three specific sub questions:\n",
    "\n",
    "1. Impact of COVID-19 on the Number of Taxi Trips in New York City:\n",
    "\n",
    "This sub-question examines how the total number of taxi trips changed during COVID compared before COVID levels. Understanding the overall decline or shifts in trip numbers can highlight the extent to which travel behaviors and demand were impacted by lockdowns and health concerns.\n",
    "\n",
    "2. Impact of COVID-19 on the Number of Passengers per Taxi Trip:\n",
    "\n",
    "This area investigates how the average number of passengers per taxi ride changed due to social distancing guidelines and reduced group travel. By exploring passenger counts, we can gain insights into how health guidelines influenced ride-sharing behavior and individual travel choices.\n",
    "\n",
    "3. Impact of COVID-19 on the Geographic Spread of Taxi Use in New York City:\n",
    "\n",
    "Finally, this sub-question focuses on changes in where taxis were used throughout the city. By comparing pick-up and drop-off locations before and during the pandemic, we can assess whether certain areas saw declines or stability in taxi activity. This spatial analysis may reveal shifts in demand from business districts to residential areas, as well as continued demand near essential facilities like hospitals. \n",
    "\n",
    "Through these analyses, our research aims to capture how New Yorkers adapted their transportation choices in response to unprecedented changes in the urban environment. The findings could provide valuable insights for city planners, policymakers, and transportation services on how to better respond to future disruptions in urban mobility.\n",
    "\n",
    "\n"
   ]
  },
  {
   "cell_type": "markdown",
   "metadata": {},
   "source": [
    "# Research Objective\n"
   ]
  },
  {
   "cell_type": "markdown",
   "metadata": {},
   "source": [
    "**Main question:**\n",
    "\n",
    "What was the impact of COVID on the use of yellow taxi services in New York City?\n",
    "\n",
    "**Sub question:**\n",
    "\n",
    "- What is the impact of Covid on the number of trips made with a taxi in New York City?\n",
    "- What is the impact of Covid on the number of passengers per taxi in New York City? \n",
    "- What is the impact of Covid on the location spread of taxi use in New York City?\n",
    "\n"
   ]
  },
  {
   "cell_type": "markdown",
   "metadata": {},
   "source": [
    "# Data Used"
   ]
  },
  {
   "cell_type": "markdown",
   "metadata": {},
   "source": [
    "Our whole timescope will be from 2019 to 2021. This way we can look at the difference in the period before and during the Covid pandemic. Before Covid we will research the period from January 2019 until February 2020. During Covid we will research the period from March 2020 until December 2021.\n",
    "\n",
    "Our Geographical range will be New York City.\n",
    "\n",
    "**Data preparation**\n",
    "\n",
    "The variables of the taxi trips that will be used for this research are:\n",
    "- Date of the trip\n",
    "- Pick up location\n",
    "- Drop off location\n",
    "- Number of passengers in a taxi\n"
   ]
  },
  {
   "cell_type": "markdown",
   "metadata": {},
   "source": [
    "# Data Pipeline"
   ]
  },
  {
   "cell_type": "markdown",
   "metadata": {},
   "source": [
    "The data extracted from the nyc.gov website (https://www.nyc.gov/site/tlc/about/tlc-trip-record-data.page) must first be processed locally, as the files are too large to be handled by GitHub. To address this, all unnecessary information will be removed from the database, retaining only the relevant variables for the analysis: trip ID, date, pick-up location, drop-off location and number of passenAgers in the vehicle. Additionally, any data points with erroneous values, such as negative distance traveled or negative travel time, will also be deleted. Even after removal of most values in the data set, the files are too large to use. Thus the data will be split into separate documents. The data will be analysed based on the different time spans. Maps will be created with hotspots for taxi-drop offs and pickups."
   ]
  },
  {
   "cell_type": "markdown",
   "metadata": {},
   "source": [
    "# COVID'S Impact on Taxi Use in NYC\n",
    "\n",
    "**What is the impact of Covid on the number of trips made with a taxi in New York City?**\n",
    "\n",
    "In order to slow down the spread of the Covid-19 virus, sanitary measures were put in place, restricting the free movement of people in the city. The effect of these measures should be easily observed as a reduction in the total number of trips made, given that people were urged to stay home and all non-essential businesses were shut down.\n",
    "\n",
    "The following graph shows the variation in the use of taxis in New York City through time, in millions of taxi trips per month. These results illustrate a sharp decline in the use of the taxi once the pandemic started, in March 2020. For the timespan before this date, even though the amount fluctuates, it ranges between 8 and 6 million for most months. On the other hand, for the first couple of months after the start of the pandemic, the amount of trips is less than 1 million.\n",
    "\n",
    "From the graph it can also be observed a clear upwards trajectory in the amount of trips from the start of the pandemic onwards. This was also expected, as the COVID restrictions were more strict at the start of the pandemic. As time progressed, restrictions began to be lifted, as well as people's attitudes towards the pandemic shifted, leading to a slow return to the pre pandemic conditions. The biggest rise in the amount of trips started at the beginning of the year 2021, which coincided with the availability of the vaccines that were introduced in New York in December 2020.\n",
    "\n",
    "![Image description][def]\n",
    "\n",
    "[def]: Graphs\\Graph1.png\n"
   ]
  },
  {
   "cell_type": "markdown",
   "metadata": {},
   "source": [
    "**What is the impact of Covid on the number of passengers per taxi in New York City?**\n",
    "\n",
    "To slow down the spread of the disease, the health and government authorize recommended  keeping physical distance whenever possible and avoiding spending time in close proximity with other people. Given that in a taxi it's impossible to comply with this measures with multiple passengers onboard, the assumption was that the amount of passengers per trip would decrease, when compared with the pre Covid condicitions. \n",
    "\n",
    "On the next graph the amount of trips made are shown, separated by the amount of passengers per trip. For both scenarios, pre Covid and during Covid, the majority of trips were made only by 1 passenger at the time. In both cases, the relationship between the number of trips and the number of passengers per trip shows a similar pattern, so it cannot be definitively concluded that the expected behavior, as described adove, occurred. This is because the pre-Covid behavior already showed a tendency to favor single-person trips, and with this results there is insufficient proof that the pandemic had a significant effect in this regard.\n",
    "\n",
    "![Image description][def]\n",
    "\n",
    "[def]: Graphs\\Graph2.png\n"
   ]
  },
  {
   "cell_type": "markdown",
   "metadata": {},
   "source": [
    "**What is the impact of Covid on the location spread of taxi use in New York City?**\n",
    "\n",
    "In order to look into the impact of covid on the location spread, heat maps were created for the pick up locations before and during covid and the drop of locations before and during covid. We did this by plotting the location id’s of the trips. For the pick up locations the map before COVID shows on average a higher intensity than intensity of the map during COVID. Mostly the key areas, likely high-traffic zones in parts of Manhattan have a significant pick up decrease during COVID. This indicated a drop in taxi demand in these high-traffic zones. \n",
    "\n",
    "In the maps you can see that with the upper east side in Manhattan the intensity stayed mostly constant during covid. With the upper east side being near some major hospitals, this was expected. Regions around hospitals and healthcare facilities retained their taxi demand. During the pandemic, many people traveled to these facilities for COVID-19 testing, treatments, or other medical needs. This medical-based demand could have contributed to a steady or reduced-but-still-consistent level of taxi pick up. \n",
    "\n",
    "For the two Airports LaGuardia and JFK the intensity decreases during the COVID period. This decrease was also expected. With the COVID travel restrictions, including international and domestic travel bans, quarantine requirements, and decreased tourist travel, there was a drastic reduction in incoming flights. This led to a significant decline in passenger volume at both JFK and LaGuardia. \n",
    "\n",
    "![Image description][def]\n",
    "\n",
    "[def]: Graphs\\Graph3.png\n"
   ]
  },
  {
   "cell_type": "markdown",
   "metadata": {},
   "source": [
    "In addition to the pick up location, we analyzed the drop-off locations for taxis before and during the COVID pandemic. The comparison on the locations before and during COVID, reveal the changes in the distribution of the taxi demand. Before the pandemic, the highest number of drop-offs was in Manhattan, especially in Lower Manhattan and Midtown. In these neighborhoods there is a lot of tourist and business activity. During the pandemic we noticed a significant reduction in drop-offs in the city. The most substantial declines are in areas that before the pandemic had the highest activity.\n",
    "\n",
    "The reduction in drop-offs in Manhattan and surrounding areas show the impact of the lockdown and the shift to remote work, this dramatically reduced the need for transportation to these business zones. The decline in tourism during the pandemic, as travel restrictions among other things kept visitors away, further contributed to the drop in taxi demand in business and tourist districts like Manhattan. \n",
    "\n",
    "The maps also show how taxi drop-offs at New York City’s major airports were affected by the COVID-19 pandemic. Before the pandemic, we observed a big concentration of drop-offs at JFK  and LaGuardia, reflecting the high demand for airport taxi services. During the pandemic as expected, the drop-off density at both airports decreased significantly.  \n",
    "\n",
    "The maps also provide insights into how the taxi drop-offs near hospitals in NYC were affected. Hospitals are crucial within the city, and during the pandemic, they became even more important. During COVID-19, while drop-offs decreased throughout the city, the activity around some hospitals were stable or even showed a slight increased taxi activity. \n",
    "\n",
    "![Image description][def]\n",
    "\n",
    "[def]: Graphs\\Graph4.png"
   ]
  },
  {
   "cell_type": "markdown",
   "metadata": {},
   "source": [
    "# Conclusion\n",
    "\n",
    "\n",
    "For all the above analysis done a decrease was found for the period during covid, what was expected. \n",
    "\n",
    "By looking at the data of taxi usage in New York City, the significant impact of Covid-19 restrictions on transportation patterns can be observed. With the implementation of lockdown measures in March 2020, there was a dramatic reduction in taxi trips, dropping to below 1 million trips per month—far below the pre-pandemic range of 6 to 8 million. After this decline, it can be observed a tendency to return to the normal pre pandemic conditions. Notably, the largest increase in trips occurred in early 2021, around the time Covid-19 vaccines became widely available in New York. This recovery trajectory underscores the relationship between public health policies, vaccination availability, and urban mobility.\n",
    "\n",
    "The analysis conducted does not support the assumption that Covid-19 significantly decreased the number of passengers per trip. The vast  majority of trips were made by a single passenger, even before the pandemic started. Therefore, there is insufficient evidence to conclude that the pandemic led to a notable shift in the passenger count per trip. \n",
    "\n",
    "For the impact of covid on the location spread, the pick up and drop of locations were analyzed. With the travel restrictions during covid for the two major airports, JFK and LaGuardia, a significant decrease in taxi pick-ups and dropoffs occurred during COVID. Consequently, fewer people needed taxis to or from these airports, leading to a noticeable decline in activity. With some major health care facilities being near the upper east side, the intensity did not decrease a lot during COVID. Many people still traveled to hospitals for COVID-19 testing, treatments, or other medical requirements, supporting this steady level of taxi spread in this area.It can be concluded the intensity of pick up and drop up significantly decreased during covid.\n"
   ]
  }
 ],
 "metadata": {
  "kernelspec": {
   "display_name": "TIL6022",
   "language": "python",
   "name": "python3"
  },
  "language_info": {
   "codemirror_mode": {
    "name": "ipython",
    "version": 3
   },
   "file_extension": ".py",
   "mimetype": "text/x-python",
   "name": "python",
   "nbconvert_exporter": "python",
   "pygments_lexer": "ipython3",
   "version": "3.12.5"
  }
 },
 "nbformat": 4,
 "nbformat_minor": 4
}
