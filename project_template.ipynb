{
 "cells": [
  {
   "cell_type": "markdown",
   "metadata": {},
   "source": [
    "# Project Group - \n",
    "\n",
    "Members: Olivia Russell, Sara Post, Alejandro Fiatt, Ivo Aben, Jochem den Nijs\n",
    "\n",
    "Student numbers: 5242312"
   ]
  },
  {
   "cell_type": "markdown",
   "metadata": {},
   "source": [
    "# Research Objective\n"
   ]
  },
  {
   "cell_type": "markdown",
   "metadata": {},
   "source": [
    "Main question:\n",
    "\n",
    "What was the impact of the COVID pandemic on the use and the location spread of taxi services within New York City?\n",
    "\n",
    "Sub question:\n",
    "\n",
    "- Is there a difference in taxi use before and during Covid?\n",
    "- "
   ]
  },
  {
   "cell_type": "markdown",
   "metadata": {},
   "source": [
    "# Contribution Statement\n",
    "\n",
    "*Be specific. Some of the tasks can be coding (expect everyone to do this), background research, conceptualisation, visualisation, data analysis, data modelling*"
   ]
  },
  {
   "cell_type": "markdown",
   "metadata": {},
   "source": [
    "**Olivia Russell**: Coding, conceptualisation\n",
    "\n",
    "**Sara Post**: Coding, background research\n",
    "\n",
    "**Alejandro Fiatt**: Coding, visualisation\n",
    "\n",
    "**Ivo Aben**: Coding, cleaning data\n",
    "\n",
    "**Jochem den Nijs**: Coding, data modelling"
   ]
  },
  {
   "cell_type": "markdown",
   "metadata": {},
   "source": [
    "# Data Used"
   ]
  },
  {
   "cell_type": "markdown",
   "metadata": {},
   "source": [
    "Our whole timescope will be from 2019 till 2021. \n",
    "This way we can look at the difference in the period before and during the Covid pandemic. \n",
    "Before Covid we will research the period from January 2019 until February 2020. \n",
    "During Covid we will research the period from March 2020 until December 2021. \n",
    "\n",
    "Our Geographical range will be New York City.\n",
    "\n",
    "We will gather the data from NYV.gov (https://www.nyc.gov/site/tlc/about/tlc-trip-record-data.page). \n",
    "This data will be cleaned, that way it will only contain necessary information. The data will be analysed based on the different time stamps. Maps will be created with hotspots for taxi-drop offs and pickups.\n"
   ]
  },
  {
   "cell_type": "markdown",
   "metadata": {},
   "source": [
    "# Data Pipeline"
   ]
  },
  {
   "cell_type": "markdown",
   "metadata": {},
   "source": [
    "\n",
    "The data extracted from the nyc.gov website must first be processed locally, as the files are too large to be handled by GitHub. To address this, all unnecessary information will be removed from the database, retaining only the relevant variables for the analysis: pick-up location, drop-off location, date, and trip ID. Additionally, any data points with erroneous values, such as negative distance traveled or negative fare paid, will also be deleted."
   ]
  }
 ],
 "metadata": {
  "kernelspec": {
   "display_name": "Python 3 (ipykernel)",
   "language": "python",
   "name": "python3"
  },
  "language_info": {
   "codemirror_mode": {
    "name": "ipython",
    "version": 3
   },
   "file_extension": ".py",
   "mimetype": "text/x-python",
   "name": "python",
   "nbconvert_exporter": "python",
   "pygments_lexer": "ipython3",
   "version": "3.12.5"
  },
  "vscode": {
   "interpreter": {
    "hash": "31f2aee4e71d21fbe5cf8b01ff0e069b9275f58929596ceb00d14d90e3e16cd6"
   }
  }
 },
 "nbformat": 4,
 "nbformat_minor": 4
}
